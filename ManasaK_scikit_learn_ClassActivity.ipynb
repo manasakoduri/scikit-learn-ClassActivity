{
  "nbformat": 4,
  "nbformat_minor": 0,
  "metadata": {
    "colab": {
      "name": "ManasaK_scikit-learn_ClassActivity.ipynb",
      "provenance": [],
      "collapsed_sections": [],
      "authorship_tag": "ABX9TyMDa7okjFXGGlhfF8PeIIz7",
      "include_colab_link": true
    },
    "kernelspec": {
      "name": "python3",
      "display_name": "Python 3"
    },
    "language_info": {
      "name": "python"
    }
  },
  "cells": [
    {
      "cell_type": "markdown",
      "metadata": {
        "id": "view-in-github",
        "colab_type": "text"
      },
      "source": [
        "<a href=\"https://colab.research.google.com/github/manasakoduri/scikit-learn-ClassActivity/blob/main/ManasaK_scikit_learn_ClassActivity.ipynb\" target=\"_parent\"><img src=\"https://colab.research.google.com/assets/colab-badge.svg\" alt=\"Open In Colab\"/></a>"
      ]
    },
    {
      "cell_type": "code",
      "execution_count": null,
      "metadata": {
        "colab": {
          "base_uri": "https://localhost:8080/"
        },
        "id": "-6kpJKctwCTX",
        "outputId": "7640c573-991a-4bc1-81a8-7c44fa841f53"
      },
      "outputs": [
        {
          "output_type": "stream",
          "name": "stdout",
          "text": [
            "Number of mislabeled points out of a total 150 points      : 6\n",
            "col_0   0   1   2\n",
            "row_0            \n",
            "0      50   0   0\n",
            "1       0  47   3\n",
            "2       0   3  47\n"
          ]
        }
      ],
      "source": [
        "from sklearn import datasets\n",
        "import pandas as pd\n",
        "iris = datasets.load_iris()\n",
        "from sklearn.naive_bayes import GaussianNB\n",
        "gnb = GaussianNB()\n",
        "y_pred = gnb.fit(iris.data, iris.target).predict(iris.data)\n",
        "print(\"Number of mislabeled points out of a total %d points\\\n",
        "      : %d\"% (iris.data.shape[0],(iris.target != y_pred).sum()))\n",
        "\n",
        "print(pd.crosstab(gnb.predict(iris.data), iris.target))\n"
      ]
    }
  ]
}